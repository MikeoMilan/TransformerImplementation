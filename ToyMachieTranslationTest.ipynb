{
 "cells": [
  {
   "cell_type": "code",
   "execution_count": 1,
   "id": "7e7f3795-204a-49ae-86c3-61f477a6009b",
   "metadata": {
    "tags": []
   },
   "outputs": [],
   "source": [
    "import transformers\n",
    "from tqdm.notebook import tqdm  as tqdm\n",
    "import numpy as np\n",
    "import math\n",
    "import torch\n",
    "import torch.nn as nn\n",
    "from transformers import AdamW\n",
    "from transformers import get_linear_schedule_with_warmup, get_cosine_schedule_with_warmup\n",
    "\n",
    "zh_tokenizer = transformers.AutoTokenizer.from_pretrained(\"hfl/chinese-xlnet-base\")\n",
    "en_tokenizer = transformers.AutoTokenizer.from_pretrained(\"xlnet-base-cased\")"
   ]
  },
  {
   "cell_type": "code",
   "execution_count": 2,
   "id": "cf6f3f76-40ba-43b5-80c0-f2522e76a488",
   "metadata": {},
   "outputs": [
    {
     "data": {
      "text/plain": [
       "(5, 5)"
      ]
     },
     "execution_count": 2,
     "metadata": {},
     "output_type": "execute_result"
    }
   ],
   "source": [
    "zh_tokenizer.convert_tokens_to_ids(\"<pad>\"), en_tokenizer.convert_tokens_to_ids(\"<pad>\")"
   ]
  },
  {
   "cell_type": "code",
   "execution_count": 3,
   "id": "d6a6581b-8a50-48f7-9612-b8dff4cb6b0c",
   "metadata": {},
   "outputs": [],
   "source": [
    "class EntityDataset:\n",
    "    def __init__(self, src, trg):\n",
    "        self.src = src\n",
    "        self.trg = trg\n",
    "        self.MAX_LEN = 128\n",
    "    \n",
    "    def __len__(self):\n",
    "        return len(self.src)\n",
    "    \n",
    "    def __getitem__(self, item):\n",
    "        src = self.src[item]\n",
    "        trg = self.trg[item]\n",
    "\n",
    "        mask = [1] * len(src)\n",
    "\n",
    "        src_padding_len = self.MAX_LEN - len(src)\n",
    "        trg_padding_len = self.MAX_LEN - len(trg)\n",
    "\n",
    "        src = src + ([5] * src_padding_len) \n",
    "        trg = trg + ([5] * trg_padding_len)\n",
    "\n",
    "        return {\n",
    "            \"src\": torch.tensor(src, dtype=torch.long),\n",
    "            \"trg\": torch.tensor(trg, dtype=torch.long),\n",
    "        }\n",
    "\n",
    "def get_data_loader(en_path, zh_path):\n",
    "    src_ids = []\n",
    "    trg_ids = []\n",
    "\n",
    "    with open(en_path) as src:\n",
    "        data = src.readlines()\n",
    "        for ids in tqdm(data):\n",
    "            ids_list = ids.split(\" \")[:-1]\n",
    "            ids_list = [int(ids_list[i]) for i in range(len(ids_list))]\n",
    "            src_ids.append(ids_list)\n",
    "\n",
    "    with open(zh_path) as trg:\n",
    "        data = trg.readlines()\n",
    "        for ids in tqdm(data):\n",
    "            ids_list = ids.split(\" \")[:-1]\n",
    "            ids_list = [int(ids_list[i]) for i in range(len(ids_list))]\n",
    "            trg_ids.append(ids_list)\n",
    "    return src_ids, trg_ids"
   ]
  },
  {
   "cell_type": "code",
   "execution_count": 4,
   "id": "93c8c09e-9aa4-47fa-b446-93fe43ccddf9",
   "metadata": {},
   "outputs": [],
   "source": [
    "class PositionalEncoding(nn.Module):\n",
    "    def __init__(self, dim_model, max_len):\n",
    "        super().__init__()\n",
    "        pos_encoding = torch.zeros(max_len, dim_model)\n",
    "        positions_list = torch.arange(0, max_len, dtype=torch.float).view(-1, 1)\n",
    "        division_term = torch.exp(torch.arange(0, dim_model, 2).float() * (-math.log(10000.0)) / dim_model) # 1000^(2i/dim_model)\n",
    "        \n",
    "        # PE(pos, 2i) = sin(pos/1000^(2i/dim_model))\n",
    "        pos_encoding[:, 0::2] = torch.sin(positions_list * division_term)\n",
    "        \n",
    "        # PE(pos, 2i + 1) = cos(pos/1000^(2i/dim_model))\n",
    "        pos_encoding[:, 1::2] = torch.cos(positions_list * division_term)\n",
    "        \n",
    "        # Saving buffer (same as parameter without gradients needed)\n",
    "        pos_encoding = pos_encoding.unsqueeze(0).transpose(0, 1)\n",
    "        self.register_buffer(\"pos_encoding\",pos_encoding)\n",
    "        \n",
    "    def forward(self, token_embedding: torch.tensor) -> torch.tensor:\n",
    "        return self.pos_encoding[:token_embedding.size(0), :]"
   ]
  },
  {
   "cell_type": "code",
   "execution_count": 5,
   "id": "705de730-01ae-4ebf-bc56-ef29d8ab739c",
   "metadata": {},
   "outputs": [],
   "source": [
    "class Transformer(nn.Module):\n",
    "    def __init__(\n",
    "        self,\n",
    "        embedding_size,\n",
    "        src_vocab_size,\n",
    "        trg_vocab_size,\n",
    "        src_pad_idx,\n",
    "        num_heads,\n",
    "        num_encoder_layers,\n",
    "        num_decoder_layers,\n",
    "        forward_expansion,\n",
    "        dropout,\n",
    "        max_len,\n",
    "        device,\n",
    "    ):\n",
    "        super(Transformer, self).__init__()\n",
    "        self.src_word_embedding = nn.Embedding(src_vocab_size, embedding_size)\n",
    "        self.src_position_embedding = PositionalEncoding(embedding_size, max_len)\n",
    "        self.trg_word_embedding = nn.Embedding(trg_vocab_size, embedding_size)\n",
    "        self.trg_position_embedding = PositionalEncoding(embedding_size, max_len)\n",
    "\n",
    "        self.device = device\n",
    "        self.transformer = nn.Transformer(\n",
    "            embedding_size,\n",
    "            num_heads,\n",
    "            num_encoder_layers,\n",
    "            num_decoder_layers,\n",
    "            forward_expansion,\n",
    "            dropout,\n",
    "        )\n",
    "        self.fc_out = nn.Linear(embedding_size, trg_vocab_size)\n",
    "        self.dropout = nn.Dropout(dropout)\n",
    "        self.src_pad_idx = src_pad_idx\n",
    "\n",
    "    def make_src_mask(self, src):\n",
    "        src_mask = src.transpose(0, 1) == self.src_pad_idx\n",
    "\n",
    "        # (N, src_len)\n",
    "        return src_mask.to(self.device)\n",
    "\n",
    "    def forward(self, src, trg):\n",
    "        src_seq_length, N = src.shape\n",
    "        trg_seq_length, N = trg.shape\n",
    "\n",
    "        word_src = self.src_word_embedding(src)\n",
    "        word_trg = self.trg_word_embedding(trg)\n",
    "\n",
    "        embed_src = self.dropout((word_src + self.src_position_embedding(src)))\n",
    "        embed_trg = self.dropout((word_trg + self.trg_position_embedding(trg)))\n",
    "\n",
    "        src_padding_mask = self.make_src_mask(src)\n",
    "        trg_mask = self.transformer.generate_square_subsequent_mask(trg_seq_length).to(self.device)\n",
    "\n",
    "        out = self.transformer(\n",
    "            embed_src,\n",
    "            embed_trg,\n",
    "            src_key_padding_mask=src_padding_mask,\n",
    "            tgt_mask=trg_mask,\n",
    "        )\n",
    "        out = self.fc_out(out)\n",
    "        return out"
   ]
  },
  {
   "cell_type": "code",
   "execution_count": 6,
   "id": "16599bb1-b0f2-4010-81a6-45e21d7d7140",
   "metadata": {
    "tags": []
   },
   "outputs": [
    {
     "data": {
      "application/vnd.jupyter.widget-view+json": {
       "model_id": "4c16a0a0212d40c889a38725b4e4adba",
       "version_major": 2,
       "version_minor": 0
      },
      "text/plain": [
       "  0%|          | 0/279916 [00:00<?, ?it/s]"
      ]
     },
     "metadata": {},
     "output_type": "display_data"
    },
    {
     "data": {
      "application/vnd.jupyter.widget-view+json": {
       "model_id": "a43f12545cae4e148b807a83250ed39f",
       "version_major": 2,
       "version_minor": 0
      },
      "text/plain": [
       "  0%|          | 0/279916 [00:00<?, ?it/s]"
      ]
     },
     "metadata": {},
     "output_type": "display_data"
    },
    {
     "data": {
      "application/vnd.jupyter.widget-view+json": {
       "model_id": "361ef46fa76944e8ad7178576f433f47",
       "version_major": 2,
       "version_minor": 0
      },
      "text/plain": [
       "  0%|          | 0/15512 [00:00<?, ?it/s]"
      ]
     },
     "metadata": {},
     "output_type": "display_data"
    },
    {
     "data": {
      "application/vnd.jupyter.widget-view+json": {
       "model_id": "5897c341f689417b92cc0d8d47d5ae80",
       "version_major": 2,
       "version_minor": 0
      },
      "text/plain": [
       "  0%|          | 0/15512 [00:00<?, ?it/s]"
      ]
     },
     "metadata": {},
     "output_type": "display_data"
    },
    {
     "data": {
      "application/vnd.jupyter.widget-view+json": {
       "model_id": "5a2755b547014eb689c173f0542f1c90",
       "version_major": 2,
       "version_minor": 0
      },
      "text/plain": [
       "  0%|          | 0/15626 [00:00<?, ?it/s]"
      ]
     },
     "metadata": {},
     "output_type": "display_data"
    },
    {
     "data": {
      "application/vnd.jupyter.widget-view+json": {
       "model_id": "1524bd7ab3e942478c5bb277b44629f5",
       "version_major": 2,
       "version_minor": 0
      },
      "text/plain": [
       "  0%|          | 0/15626 [00:00<?, ?it/s]"
      ]
     },
     "metadata": {},
     "output_type": "display_data"
    }
   ],
   "source": [
    "train_en, train_zh = get_data_loader(\"./data/train.en\", \"./data/train.zh\")\n",
    "valid_en, valid_zh = get_data_loader(\"./data/valid.en\", \"./data/valid.zh\")\n",
    "test_en, test_zh = get_data_loader(\"./data/test.en\", \"./data/test.zh\")"
   ]
  },
  {
   "cell_type": "code",
   "execution_count": 7,
   "id": "91c45b5b-939f-4697-8b5a-b7258d17ab67",
   "metadata": {},
   "outputs": [],
   "source": [
    "Batch_size = 128\n",
    "\n",
    "train_dataset = EntityDataset(train_en, train_zh)\n",
    "train_data_loader = torch.utils.data.DataLoader(train_dataset, batch_size=Batch_size)\n",
    "\n",
    "valid_dataset = EntityDataset(valid_en, valid_zh)\n",
    "valid_data_loader = torch.utils.data.DataLoader(valid_dataset, batch_size=Batch_size)\n",
    "\n",
    "test_dataset = EntityDataset(test_en, test_zh)\n",
    "test_data_loader = torch.utils.data.DataLoader(test_dataset, batch_size=Batch_size)"
   ]
  },
  {
   "cell_type": "code",
   "execution_count": 18,
   "id": "13eebd7a-f5f5-480a-8ec6-1c8a7b4e8cf5",
   "metadata": {},
   "outputs": [],
   "source": [
    "from transformer_model import Transformer as Mytransformer\n",
    "\n",
    "device = torch.device(\"cuda\" if torch.cuda.is_available() else \"cpu\")\n",
    "\n",
    "src_vocab_size = len(en_tokenizer.vocab)\n",
    "trg_vocab_size = len(zh_tokenizer.vocab)\n",
    "embedding_size = 512\n",
    "num_heads = 4\n",
    "num_encoder_layers = 3\n",
    "num_decoder_layers = 3\n",
    "dropout = 0.10\n",
    "max_len = 128\n",
    "forward_expansion = 4\n",
    "src_pad_idx = en_tokenizer.convert_tokens_to_ids(\"<pad>\")\n",
    "trg_pad_idx = zh_tokenizer.convert_tokens_to_ids(\"<pad>\")\n",
    "\n",
    "\n",
    "model = Mytransformer(src_vocab_size, \n",
    "                      trg_vocab_size, \n",
    "                      src_pad_idx, \n",
    "                      trg_pad_idx,\n",
    "                      embed_size=embedding_size, \n",
    "                      num_layers=num_encoder_layers,\n",
    "                      forward_expansion=4,\n",
    "                      heads= num_heads,\n",
    "                      dropout=dropout,\n",
    "                      max_length=max_len,\n",
    "                      device=device).to(device)"
   ]
  },
  {
   "cell_type": "code",
   "execution_count": 19,
   "id": "0147494c-8232-4dec-aeff-dc1062ff4617",
   "metadata": {
    "tags": []
   },
   "outputs": [],
   "source": [
    "learning_rate = 5e-4\n",
    "batch_size = 128\n",
    "num_epochs = 25\n",
    "\n",
    "num_train_steps = int(\n",
    "    len(train_dataset) / batch_size * num_epochs\n",
    ")\n",
    "\n",
    "optimizer = AdamW(model.parameters(), lr=learning_rate)\n",
    "\n",
    "trg_pad_idx = zh_tokenizer.convert_tokens_to_ids(\"<pad>\")\n",
    "criterion = nn.CrossEntropyLoss(ignore_index = trg_pad_idx, label_smoothing=0.1)\n",
    "\n",
    "scheduler = get_cosine_schedule_with_warmup(\n",
    "    optimizer, \n",
    "    num_warmup_steps=200, \n",
    "    num_training_steps=num_train_steps)"
   ]
  },
  {
   "cell_type": "code",
   "execution_count": null,
   "id": "b5f91c85-7fea-4e31-b406-679980e695fb",
   "metadata": {},
   "outputs": [],
   "source": []
  },
  {
   "cell_type": "code",
   "execution_count": 20,
   "id": "209e2a64-5ebc-4e1e-ae14-6c3c82c5e9c7",
   "metadata": {
    "tags": []
   },
   "outputs": [
    {
     "name": "stdout",
     "output_type": "stream",
     "text": [
      "Epoch 1/25:\n"
     ]
    },
    {
     "data": {
      "application/vnd.jupyter.widget-view+json": {
       "model_id": "b6cfe0d95fc84b31a62e5eed30848978",
       "version_major": 2,
       "version_minor": 0
      },
      "text/plain": [
       "  0%|          | 0/122 [00:00<?, ?it/s]"
      ]
     },
     "metadata": {},
     "output_type": "display_data"
    },
    {
     "name": "stdout",
     "output_type": "stream",
     "text": [
      "train loss: 7.447718940797399 | valid_loss: 6.35254774328138 | learning rate: 0.000305\n",
      "目标句子: 但进展不应被称作胜利。\n",
      "预测句子: ['-', '-', '-', '-', '-', '-', '-', '-', '-', '-', '-', '-', '-', '-', '-', '-', '-', '-', '-', '-', '-', '-', '-', '-', '-', '-', '-', '-', '-', '-', '-', '-', '-', '-', '-', '-', '-', '-', '-', '-', '-', '-', '-', '-', '-', '-', '-', '-', '-', '-', '-', '-', '-', '-', '-', '-', '-', '-', '-', '-', '-', '-', '-']\n",
      "********************\n",
      "Epoch 2/25:\n"
     ]
    },
    {
     "data": {
      "application/vnd.jupyter.widget-view+json": {
       "model_id": "ef374f051dc648d8b82b57f59d918c75",
       "version_major": 2,
       "version_minor": 0
      },
      "text/plain": [
       "  0%|          | 0/122 [00:00<?, ?it/s]"
      ]
     },
     "metadata": {},
     "output_type": "display_data"
    },
    {
     "name": "stdout",
     "output_type": "stream",
     "text": [
      "train loss: 6.289741617734315 | valid_loss: 6.086721228771522 | learning rate: 0.0004999991950216841\n",
      "目标句子: 但进展不应被称作胜利。\n",
      "预测句子: ['事实上,这在中国的。']\n",
      "********************\n",
      "Epoch 3/25:\n"
     ]
    },
    {
     "data": {
      "application/vnd.jupyter.widget-view+json": {
       "model_id": "615735ba9e3f489180c7d758073a320b",
       "version_major": 2,
       "version_minor": 0
      },
      "text/plain": [
       "  0%|          | 0/122 [00:00<?, ?it/s]"
      ]
     },
     "metadata": {},
     "output_type": "display_data"
    },
    {
     "name": "stdout",
     "output_type": "stream",
     "text": [
      "train loss: 6.045190584464152 | valid_loss: 5.7638504817837575 | learning rate: 0.0004999885424457946\n",
      "目标句子: 但进展不应被称作胜利。\n",
      "预测句子: ['我们是,这将是。']\n",
      "********************\n",
      "Epoch 4/25:\n"
     ]
    },
    {
     "data": {
      "application/vnd.jupyter.widget-view+json": {
       "model_id": "7ea8419282784044918525b3a6313857",
       "version_major": 2,
       "version_minor": 0
      },
      "text/plain": [
       "  0%|          | 0/122 [00:00<?, ?it/s]"
      ]
     },
     "metadata": {},
     "output_type": "display_data"
    },
    {
     "name": "stdout",
     "output_type": "stream",
     "text": [
      "train loss: 5.744608535141241 | valid_loss: 5.381872865020251 | learning rate: 0.0004999655131083889\n",
      "目标句子: 但进展不应被称作胜利。\n",
      "预测句子: ['但这是什么样的。']\n",
      "********************\n",
      "Epoch 5/25:\n"
     ]
    },
    {
     "data": {
      "application/vnd.jupyter.widget-view+json": {
       "model_id": "9378b2e15a114066a10d9b60b280a06c",
       "version_major": 2,
       "version_minor": 0
      },
      "text/plain": [
       "  0%|          | 0/122 [00:00<?, ?it/s]"
      ]
     },
     "metadata": {},
     "output_type": "display_data"
    },
    {
     "name": "stdout",
     "output_type": "stream",
     "text": [
      "train loss: 5.460981853672715 | valid_loss: 5.101390209354338 | learning rate: 0.0004999301081496337\n",
      "目标句子: 但进展不应被称作胜利。\n",
      "预测句子: ['但这并不是不应该是。']\n",
      "********************\n",
      "Epoch 6/25:\n"
     ]
    },
    {
     "data": {
      "application/vnd.jupyter.widget-view+json": {
       "model_id": "c0b63b8ff3744fffa87247674fc770e9",
       "version_major": 2,
       "version_minor": 0
      },
      "text/plain": [
       "  0%|          | 0/122 [00:00<?, ?it/s]"
      ]
     },
     "metadata": {},
     "output_type": "display_data"
    },
    {
     "name": "stdout",
     "output_type": "stream",
     "text": [
      "train loss: 5.198743198738724 | valid_loss: 4.859196766478116 | learning rate: 0.0004998823293224042\n",
      "目标句子: 但进展不应被称作胜利。\n",
      "预测句子: ['但这并不是没有人的。']\n",
      "********************\n",
      "Epoch 7/25:\n"
     ]
    },
    {
     "data": {
      "application/vnd.jupyter.widget-view+json": {
       "model_id": "1ca6b7abe384475da6f599be6a351778",
       "version_major": 2,
       "version_minor": 0
      },
      "text/plain": [
       "  0%|          | 0/122 [00:00<?, ?it/s]"
      ]
     },
     "metadata": {},
     "output_type": "display_data"
    },
    {
     "name": "stdout",
     "output_type": "stream",
     "text": [
      "train loss: 4.9700159479360115 | valid_loss: 4.582607839928299 | learning rate: 0.0004998221789921976\n",
      "目标句子: 但进展不应被称作胜利。\n",
      "预测句子: ['但这并不是不仅仅是正确的。']\n",
      "********************\n",
      "Epoch 8/25:\n"
     ]
    },
    {
     "data": {
      "application/vnd.jupyter.widget-view+json": {
       "model_id": "4a9002fe6a4741f78fb7308821cd3483",
       "version_major": 2,
       "version_minor": 0
      },
      "text/plain": [
       "  0%|          | 0/122 [00:00<?, ?it/s]"
      ]
     },
     "metadata": {},
     "output_type": "display_data"
    },
    {
     "name": "stdout",
     "output_type": "stream",
     "text": [
      "train loss: 4.771344648032892 | valid_loss: 4.397481380916033 | learning rate: 0.0004997496601370153\n",
      "目标句子: 但进展不应被称作胜利。\n",
      "预测句子: ['但这并不仅仅是正确的。']\n",
      "********************\n",
      "Epoch 9/25:\n"
     ]
    },
    {
     "data": {
      "application/vnd.jupyter.widget-view+json": {
       "model_id": "fa87eeb3a35d4846b9184c36f8ffcdf2",
       "version_major": 2,
       "version_minor": 0
      },
      "text/plain": [
       "  0%|          | 0/122 [00:00<?, ?it/s]"
      ]
     },
     "metadata": {},
     "output_type": "display_data"
    },
    {
     "name": "stdout",
     "output_type": "stream",
     "text": [
      "train loss: 4.600592333762372 | valid_loss: 4.217675582307284 | learning rate: 0.0004996647763472163\n",
      "目标句子: 但进展不应被称作胜利。\n",
      "预测句子: ['但这并不仅仅是正确的。']\n",
      "********************\n",
      "Epoch 10/25:\n"
     ]
    },
    {
     "data": {
      "application/vnd.jupyter.widget-view+json": {
       "model_id": "1d6a4e9af7064ac588891860cc8197fb",
       "version_major": 2,
       "version_minor": 0
      },
      "text/plain": [
       "  0%|          | 0/122 [00:00<?, ?it/s]"
      ]
     },
     "metadata": {},
     "output_type": "display_data"
    },
    {
     "name": "stdout",
     "output_type": "stream",
     "text": [
      "train loss: 4.432357268255265 | valid_loss: 4.013471869171643 | learning rate: 0.0004995675318253389\n",
      "目标句子: 但进展不应被称作胜利。\n",
      "预测句子: ['但这并不是是个问题。']\n",
      "********************\n",
      "Epoch 11/25:\n"
     ]
    },
    {
     "data": {
      "application/vnd.jupyter.widget-view+json": {
       "model_id": "c9eb6805225641f494c875532e11e803",
       "version_major": 2,
       "version_minor": 0
      },
      "text/plain": [
       "  0%|          | 0/122 [00:00<?, ?it/s]"
      ]
     },
     "metadata": {},
     "output_type": "display_data"
    },
    {
     "name": "stdout",
     "output_type": "stream",
     "text": [
      "train loss: 4.270497691435892 | valid_loss: 3.8159068754461947 | learning rate: 0.0004994579313858927\n",
      "目标句子: 但进展不应被称作胜利。\n",
      "预测句子: ['但这并非如此。']\n",
      "********************\n",
      "Epoch 12/25:\n"
     ]
    },
    {
     "data": {
      "application/vnd.jupyter.widget-view+json": {
       "model_id": "130808d2037e449fb62d1887c06cffe8",
       "version_major": 2,
       "version_minor": 0
      },
      "text/plain": [
       "  0%|          | 0/122 [00:00<?, ?it/s]"
      ]
     },
     "metadata": {},
     "output_type": "display_data"
    },
    {
     "name": "stdout",
     "output_type": "stream",
     "text": [
      "train loss: 4.120963610586573 | valid_loss: 3.648605932954882 | learning rate: 0.0004993359804551204\n",
      "目标句子: 但进展不应被称作胜利。\n",
      "预测句子: ['但这并不是是个关键因素。']\n",
      "********************\n",
      "Epoch 13/25:\n"
     ]
    },
    {
     "data": {
      "application/vnd.jupyter.widget-view+json": {
       "model_id": "6b5dd1ee4d394baabf7745e6aa8c0e09",
       "version_major": 2,
       "version_minor": 0
      },
      "text/plain": [
       "  0%|          | 0/122 [00:00<?, ?it/s]"
      ]
     },
     "metadata": {},
     "output_type": "display_data"
    },
    {
     "name": "stdout",
     "output_type": "stream",
     "text": [
      "train loss: 3.982201553759028 | valid_loss: 3.5276199168846256 | learning rate: 0.0004992016850707291\n",
      "目标句子: 但进展不应被称作胜利。\n",
      "预测句子: ['但这并不是是个进步。']\n",
      "********************\n",
      "Epoch 14/25:\n"
     ]
    },
    {
     "data": {
      "application/vnd.jupyter.widget-view+json": {
       "model_id": "7ce705baf06b48fdae5343157981cb3b",
       "version_major": 2,
       "version_minor": 0
      },
      "text/plain": [
       "  0%|          | 0/122 [00:00<?, ?it/s]"
      ]
     },
     "metadata": {},
     "output_type": "display_data"
    },
    {
     "name": "stdout",
     "output_type": "stream",
     "text": [
      "train loss: 3.862503116248084 | valid_loss: 3.323356758375637 | learning rate: 0.0004990550518815912\n",
      "目标句子: 但进展不应被称作胜利。\n",
      "预测句子: ['但这并不是是重要的进展。']\n",
      "********************\n",
      "Epoch 15/25:\n"
     ]
    },
    {
     "data": {
      "application/vnd.jupyter.widget-view+json": {
       "model_id": "405617091e89427bbede5a1bc553964c",
       "version_major": 2,
       "version_minor": 0
      },
      "text/plain": [
       "  0%|          | 0/122 [00:00<?, ?it/s]"
      ]
     },
     "metadata": {},
     "output_type": "display_data"
    },
    {
     "name": "stdout",
     "output_type": "stream",
     "text": [
      "train loss: 3.7249075203645425 | valid_loss: 3.1593173761836817 | learning rate: 0.0004988960881474157\n",
      "目标句子: 但进展不应被称作胜利。\n",
      "预测句子: ['但这并非是进步的进展。']\n",
      "********************\n",
      "Epoch 16/25:\n"
     ]
    },
    {
     "data": {
      "application/vnd.jupyter.widget-view+json": {
       "model_id": "ccda2dbca6d840cdb82f241ca27bd91d",
       "version_major": 2,
       "version_minor": 0
      },
      "text/plain": [
       "  0%|          | 0/122 [00:00<?, ?it/s]"
      ]
     },
     "metadata": {},
     "output_type": "display_data"
    },
    {
     "name": "stdout",
     "output_type": "stream",
     "text": [
      "train loss: 3.5959056273835603 | valid_loss: 3.011433841752224 | learning rate: 0.0004987248017383881\n",
      "目标句子: 但进展不应被称作胜利。\n",
      "预测句子: ['但这并非是进步的。']\n",
      "********************\n",
      "Epoch 17/25:\n"
     ]
    },
    {
     "data": {
      "application/vnd.jupyter.widget-view+json": {
       "model_id": "8f3ecc334c7b41e2b301ebaeddc23a4f",
       "version_major": 2,
       "version_minor": 0
      },
      "text/plain": [
       "  0%|          | 0/122 [00:00<?, ?it/s]"
      ]
     },
     "metadata": {},
     "output_type": "display_data"
    },
    {
     "name": "stdout",
     "output_type": "stream",
     "text": [
      "train loss: 3.4798829496883954 | valid_loss: 2.8796197263920895 | learning rate: 0.000498541201134781\n",
      "目标句子: 但进展不应被称作胜利。\n",
      "预测句子: ['但这并不是是进步的进展。']\n",
      "********************\n",
      "Epoch 18/25:\n"
     ]
    },
    {
     "data": {
      "application/vnd.jupyter.widget-view+json": {
       "model_id": "c203a0c1838e45eeafeb5b068f0268cb",
       "version_major": 2,
       "version_minor": 0
      },
      "text/plain": [
       "  0%|          | 0/122 [00:00<?, ?it/s]"
      ]
     },
     "metadata": {},
     "output_type": "display_data"
    },
    {
     "name": "stdout",
     "output_type": "stream",
     "text": [
      "train loss: 3.375208170687566 | valid_loss: 2.8242852521724386 | learning rate: 0.0004983452954265348\n",
      "目标句子: 但进展不应被称作胜利。\n",
      "预测句子: ['但进展却不是进展的进展。']\n",
      "********************\n",
      "Epoch 19/25:\n"
     ]
    },
    {
     "data": {
      "application/vnd.jupyter.widget-view+json": {
       "model_id": "627d21f7245e405c9e987109b971c8ed",
       "version_major": 2,
       "version_minor": 0
      },
      "text/plain": [
       "  0%|          | 0/122 [00:00<?, ?it/s]"
      ]
     },
     "metadata": {},
     "output_type": "display_data"
    },
    {
     "name": "stdout",
     "output_type": "stream",
     "text": [
      "train loss: 3.2648927794128166 | valid_loss: 2.6532741736193173 | learning rate: 0.0004981370943128068\n",
      "目标句子: 但进展不应被称作胜利。\n",
      "预测句子: ['但进展不仅仅是进步的进展。']\n",
      "********************\n",
      "Epoch 20/25:\n"
     ]
    },
    {
     "data": {
      "application/vnd.jupyter.widget-view+json": {
       "model_id": "0463450fda8046978020d7b648fcf680",
       "version_major": 2,
       "version_minor": 0
      },
      "text/plain": [
       "  0%|          | 0/122 [00:00<?, ?it/s]"
      ]
     },
     "metadata": {},
     "output_type": "display_data"
    },
    {
     "name": "stdout",
     "output_type": "stream",
     "text": [
      "train loss: 3.1640650962219863 | valid_loss: 2.5372038288194627 | learning rate: 0.0004979166081014914\n",
      "目标句子: 但进展不应被称作胜利。\n",
      "预测句子: ['但进展不是进展的进展,而是积极进展。']\n",
      "********************\n",
      "Epoch 21/25:\n"
     ]
    },
    {
     "data": {
      "application/vnd.jupyter.widget-view+json": {
       "model_id": "f6ba8372cbf14e5b9cb1316cb15bdee5",
       "version_major": 2,
       "version_minor": 0
      },
      "text/plain": [
       "  0%|          | 0/122 [00:00<?, ?it/s]"
      ]
     },
     "metadata": {},
     "output_type": "display_data"
    },
    {
     "name": "stdout",
     "output_type": "stream",
     "text": [
      "train loss: 3.06135082049448 | valid_loss: 2.402822041609248 | learning rate: 0.0004976838477087103\n",
      "目标句子: 但进展不应被称作胜利。\n",
      "预测句子: ['但进展不仅仅是胜利。']\n",
      "********************\n",
      "Epoch 22/25:\n"
     ]
    },
    {
     "data": {
      "application/vnd.jupyter.widget-view+json": {
       "model_id": "204ff6b47d5242fda08d1d19feb303e9",
       "version_major": 2,
       "version_minor": 0
      },
      "text/plain": [
       "  0%|          | 0/122 [00:00<?, ?it/s]"
      ]
     },
     "metadata": {},
     "output_type": "display_data"
    },
    {
     "name": "stdout",
     "output_type": "stream",
     "text": [
      "train loss: 2.965046148808276 | valid_loss: 2.2814131330271237 | learning rate: 0.0004974388246582707\n",
      "目标句子: 但进展不应被称作胜利。\n",
      "预测句子: ['但进展不仅仅是胜利。']\n",
      "********************\n",
      "Epoch 23/25:\n"
     ]
    },
    {
     "data": {
      "application/vnd.jupyter.widget-view+json": {
       "model_id": "77f798e832384347bd26dd6f74caedfc",
       "version_major": 2,
       "version_minor": 0
      },
      "text/plain": [
       "  0%|          | 0/122 [00:00<?, ?it/s]"
      ]
     },
     "metadata": {},
     "output_type": "display_data"
    },
    {
     "name": "stdout",
     "output_type": "stream",
     "text": [
      "train loss: 2.8750524721184716 | valid_loss: 2.180235998552354 | learning rate: 0.0004971815510810962\n",
      "目标句子: 但进展不应被称作胜利。\n",
      "预测句子: ['但进展却不错过了。']\n",
      "********************\n",
      "Epoch 24/25:\n"
     ]
    },
    {
     "data": {
      "application/vnd.jupyter.widget-view+json": {
       "model_id": "06f45cb08f824e4baa7085fc347fd786",
       "version_major": 2,
       "version_minor": 0
      },
      "text/plain": [
       "  0%|          | 0/122 [00:00<?, ?it/s]"
      ]
     },
     "metadata": {},
     "output_type": "display_data"
    },
    {
     "name": "stdout",
     "output_type": "stream",
     "text": [
      "train loss: 2.7915907595001284 | valid_loss: 2.1108825216527847 | learning rate: 0.0004969120397146255\n",
      "目标句子: 但进展不应被称作胜利。\n",
      "预测句子: ['但进展不仅仅是胜利。']\n",
      "********************\n",
      "Epoch 25/25:\n"
     ]
    },
    {
     "data": {
      "application/vnd.jupyter.widget-view+json": {
       "model_id": "741ade0cd07f43d59034ca4c68d574e0",
       "version_major": 2,
       "version_minor": 0
      },
      "text/plain": [
       "  0%|          | 0/122 [00:00<?, ?it/s]"
      ]
     },
     "metadata": {},
     "output_type": "display_data"
    },
    {
     "name": "stdout",
     "output_type": "stream",
     "text": [
      "train loss: 2.7063615458910584 | valid_loss: 2.006202404616309 | learning rate: 0.0004966303039021817\n",
      "目标句子: 但进展不应被称作胜利。\n",
      "预测句子: ['但进展却不仅仅是胜利。']\n",
      "********************\n"
     ]
    }
   ],
   "source": [
    "best_loss = np.inf\n",
    "\n",
    "for epoch in range(num_epochs):\n",
    "    print(\"Epoch {}/{}:\".format(epoch+1, num_epochs))\n",
    "\n",
    "    model.train()\n",
    "    train_losses = []\n",
    "    final_loss = 0\n",
    "    for batch_idx, batch in enumerate(tqdm(valid_data_loader)):\n",
    "        inp_data = batch[\"src\"].to(device)\n",
    "        target = batch[\"trg\"].to(device)\n",
    "        output = model(inp_data, target[:, :-1])\n",
    "        output = output.reshape(-1, output.shape[2])\n",
    "        target = target[:, 1:].reshape(-1)\n",
    "        \n",
    "        optimizer.zero_grad()\n",
    "        loss = criterion(output, target)\n",
    "        loss.backward()        \n",
    "        optimizer.step()\n",
    "        scheduler.step()\n",
    "\n",
    "        final_loss += loss.item()\n",
    "    train_loss = final_loss / len(valid_data_loader)\n",
    "    train_losses.append(train_loss)\n",
    "    \n",
    "    current_lr = optimizer.state_dict()['param_groups'][0]['lr']\n",
    "\n",
    "    model.eval()\n",
    "    valid_losses = []\n",
    "    final_loss = 0\n",
    "    for batch_idx, batch in enumerate(valid_data_loader):\n",
    "        inp_data = batch[\"src\"].to(device)\n",
    "        target = batch[\"trg\"].to(device)\n",
    "        output = model(inp_data, target[:, :-1])\n",
    "        output = output.reshape(-1, output.shape[2])\n",
    "        target = target[:, 1:].reshape(-1)\n",
    "        \n",
    "        loss = criterion(output, target)\n",
    "        final_loss += loss.item()\n",
    "    valid_loss = final_loss / len(valid_data_loader)\n",
    "    valid_losses.append(valid_loss)\n",
    "    \n",
    "    print(\"train loss: {} | valid_loss: {} | learning rate: {}\".format(train_loss, valid_loss, current_lr))"
   ]
  },
  {
   "cell_type": "code",
   "execution_count": 93,
   "id": "ee3d88b8-d6c6-40a7-87e6-1e55d1a77f2d",
   "metadata": {},
   "outputs": [
    {
     "data": {
      "image/png": "[encoded data removed]",
      "text/plain": [
       "<Figure size 432x288 with 1 Axes>"
      ]
     },
     "metadata": {
      "needs_background": "light"
     },
     "output_type": "display_data"
    }
   ],
   "source": [
    "import matplotlib.pyplot as plt\n",
    "\n",
    "epochs = [i for i in range(25)]\n",
    "\n",
    "plt.plot(epochs, train_losses)\n",
    "plt.plot(epochs, valid_losses)\n",
    "plt.show()"
   ]
  },
  {
   "cell_type": "code",
   "execution_count": null,
   "id": "8e9134c5-cac8-47d7-bf10-d90fdee6b785",
   "metadata": {},
   "outputs": [],
   "source": []
  },
  {
   "cell_type": "code",
   "execution_count": null,
   "id": "100352a8-5ad8-46d3-a15d-308f901c8dff",
   "metadata": {},
   "outputs": [],
   "source": []
  },
  {
   "cell_type": "code",
   "execution_count": null,
   "id": "9595b18d-13dc-4156-8503-11766983f5e2",
   "metadata": {},
   "outputs": [],
   "source": []
  },
  {
   "cell_type": "code",
   "execution_count": 70,
   "id": "d3b51cbf-a512-4b09-af74-78909265715a",
   "metadata": {
    "tags": []
   },
   "outputs": [
    {
     "name": "stdout",
     "output_type": "stream",
     "text": [
      "目标句子: 2012年10月,IMF大大赞扬了新兴经济体的恢复力。\n",
      "预测句子: 2012年10月,IMF预测\"新兴经济体\"一词。\n",
      "********************\n"
     ]
    }
   ],
   "source": [
    "zh_sentence = \"2012年10月,IMF大大赞扬了新兴经济体的恢复力。\"\n",
    "infer_sentence = [3, 25, 665, 1311, 19, 18, 8903, 6570, 5714, 7690, 12, 17, 12, 88, 23, 8307, 2612, 9, 12, 4]\n",
    "infer_dataset = EntityDataset([infer_sentence], [infer_sentence])\n",
    "infer_data_loader = torch.utils.data.DataLoader(infer_dataset, batch_size=1)\n",
    "batch = next(iter(infer_data_loader))\n",
    "inp_data = batch[\"src\"].to(device)\n",
    "outputs = [zh_tokenizer.convert_tokens_to_ids(\"<cls>\")]\n",
    "\n",
    "\n",
    "for i in range(128):\n",
    "    trg_tensor = torch.LongTensor(outputs).unsqueeze(1).to(device)\n",
    "    trg_tensor = trg_tensor.reshape(1,-1)\n",
    "    with torch.no_grad():\n",
    "        output = model(inp_data, trg_tensor)\n",
    "\n",
    "    output = output.permute(1,0,2)\n",
    "    best_guess = output.argmax(2)[-1, :].item()\n",
    "    outputs.append(best_guess)\n",
    "\n",
    "    if best_guess == zh_tokenizer.convert_tokens_to_ids(\"<sep>\"):\n",
    "        break\n",
    "\n",
    "    translated_sentence = zh_tokenizer.decode(outputs).split(\" \")[1:-1]\n",
    "print(\"目标句子: {}\".format(zh_sentence))\n",
    "print(\"预测句子: {}\".format(translated_sentence[0]))\n",
    "print('*' * 20)"
   ]
  },
  {
   "cell_type": "code",
   "execution_count": null,
   "id": "f4632e41-0f56-4f9d-a403-f7707b5c5a3e",
   "metadata": {},
   "outputs": [],
   "source": []
  }
 ],
 "metadata": {
  "kernelspec": {
   "display_name": "Python 3 (ipykernel)",
   "language": "python",
   "name": "python3"
  },
  "language_info": {
   "codemirror_mode": {
    "name": "ipython",
    "version": 3
   },
   "file_extension": ".py",
   "mimetype": "text/x-python",
   "name": "python",
   "nbconvert_exporter": "python",
   "pygments_lexer": "ipython3",
   "version": "3.8.10"
  }
 },
 "nbformat": 4,
 "nbformat_minor": 5
}
